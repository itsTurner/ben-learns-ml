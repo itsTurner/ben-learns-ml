{
  "nbformat": 4,
  "nbformat_minor": 0,
  "metadata": {
    "colab": {
      "name": "MyFirstMLP.ipynb",
      "provenance": [],
      "collapsed_sections": [],
      "toc_visible": true,
      "authorship_tag": "ABX9TyMFMtUoLI/CGz955CpDxo28",
      "include_colab_link": true
    },
    "kernelspec": {
      "name": "python3",
      "display_name": "Python 3"
    }
  },
  "cells": [
    {
      "cell_type": "markdown",
      "metadata": {
        "id": "view-in-github",
        "colab_type": "text"
      },
      "source": [
        "<a href=\"https://colab.research.google.com/github/itsTurner/ben-learns-ml/blob/main/MyFirstMLP.ipynb\" target=\"_parent\"><img src=\"https://colab.research.google.com/assets/colab-badge.svg\" alt=\"Open In Colab\"/></a>"
      ]
    },
    {
      "cell_type": "code",
      "metadata": {
        "id": "umaC3ryGL9o6"
      },
      "source": [
        "import numpy as np\n",
        "import pandas as pd\n",
        "from random import random\n",
        "from sklearn.model_selection import train_test_split\n",
        "import math\n",
        "import matplotlib.pyplot as plt\n",
        "from sklearn.decomposition import PCA as skPCA\n",
        "\n"
      ],
      "execution_count": null,
      "outputs": []
    },
    {
      "cell_type": "markdown",
      "metadata": {
        "id": "i7VJLj8XH4-p"
      },
      "source": [
        "\n",
        "\n",
        "1.   Create MLP Class\n",
        "2.   Create Random Weights\n",
        "3.   Create Biases\n",
        "4.   Create Ability to Feed Forward\n",
        "5.   Create Ability to Calculate Error\n",
        "6.   Apply Error Correction Through Feed Forward\n",
        "7.   Create Learning\n",
        "8.   Make subtraction dataset\n",
        "9.   Test MLP Output\n",
        "\n"
      ]
    },
    {
      "cell_type": "code",
      "metadata": {
        "colab": {
          "base_uri": "https://localhost:8080/"
        },
        "id": "TYovrqZKH1al",
        "outputId": "ef39b8ae-072d-4321-c983-f281a272408b"
      },
      "source": [
        "class MLPMine:\n",
        "  def __init__ (self, inputCount = 4, hiddenLayers = [3], outputCount = 1):\n",
        "    \n",
        "    self.inputCount = inputCount\n",
        "    self.hiddenLayers = hiddenLayers\n",
        "    self.outputCount = outputCount\n",
        "\n",
        "    layers = [self.inputCount] + self.hiddenLayers + [self.outputCount]\n",
        "    self.weights = []\n",
        "\n",
        "    for i in range(len(layers) - 1):\n",
        "      self.weights.append(np.random.rand(layers[i], layers[i + 1]))\n",
        "\n",
        "    activations = []\n",
        "\n",
        "    for i in range(len(layers)):\n",
        "      a = np.zeros(layers[i])\n",
        "      activations.append(a) \n",
        "\n",
        "    self.activations = activations\n",
        "\n",
        "    derivatives = []\n",
        "\n",
        "    for i in range(len(layers) - 1):\n",
        "      d = np.zeros((layers[i], layers[i+1]))\n",
        "      derivatives.append(d) \n",
        "\n",
        "    self.derivatives = derivatives\n",
        "\n",
        "\n",
        "\n",
        "\n",
        "  def forwardPropagate(self, input):\n",
        "\n",
        "    #iterate through each set of weights and get an h value\n",
        "    #Use this h value to get an activation and feed this to the next layer\n",
        "    activations = input\n",
        "    self.activations[0] = activations\n",
        "    for i, w in enumerate(self.weights):\n",
        "      net_inputs = np.dot(activations, w)\n",
        "      activations = self._sigmoid(net_inputs)\n",
        "      self.activations[i+1] = activations\n",
        "    return activations\n",
        "\n",
        "  def backPropagate(self, error, verbose=False):\n",
        "\n",
        "    for i in reversed(range(len(self.derivatives))):\n",
        "\n",
        "      \n",
        "      activations = self.activations[i+1]\n",
        "\n",
        "      delta = error * self._sigmoid_derivative(activations)\n",
        "\n",
        "      delta_reshaped = delta.reshape(delta.shape[0], -1).T\n",
        "\n",
        "      current_activations = self.activations[i]\n",
        "\n",
        "      current_activations = current_activations.reshape(current_activations.shape[0],-1)\n",
        "\n",
        "      self.derivatives[i] = np.dot(current_activations, delta_reshaped)\n",
        "\n",
        "      error = np.dot(delta, self.weights[i].T)\n",
        "      if verbose:\n",
        "        print(self.derivatives[i])\n",
        "    return error\n",
        "\n",
        "  def gradient_descent(self, learning_rate):\n",
        "    for i in range(len(self.weights)):\n",
        "      weights = self.weights[i]\n",
        "\n",
        "      #print(\"original weights {}, {}\".format(i, self.weights[i]))\n",
        "\n",
        "      derivatives = self.derivatives[i]\n",
        "      weights += derivatives * learning_rate\n",
        "\n",
        "      #print(\"new weights {}, {}\".format(i, self.weights[i]))\n",
        "\n",
        "  def train(self, inputs, targets, epochs = 100, learning_rate = 0.1):\n",
        "    for i in range(epochs):\n",
        "      sum_error = 0\n",
        "      for j, input in enumerate(inputs):\n",
        "        output = self.forwardPropagate(input)\n",
        "        target = targets[j]\n",
        "        error = target - output\n",
        "\n",
        "        self.backPropagate(error)\n",
        "\n",
        "        self.gradient_descent(learning_rate)\n",
        "      \n",
        "        sum_error+= self._mse(target, output)\n",
        "      \n",
        "      #print(\"Error: {} at epoch {}\".format(sum_error/ len(inputs), i))\n",
        "\n",
        "  def _mse(self, target, output):\n",
        "    return np.average((target - output)**2)\n",
        "\n",
        "  def _sigmoid(self, x):\n",
        "    y = 1.0 / (1 + np.exp(-x))\n",
        "    return y\n",
        "\n",
        "  def _sigmoid_derivative(self, x):\n",
        "    return x * (1.0 - x)\n",
        "\n",
        "  \n",
        "\n",
        "if __name__ == \"__main__\":\n",
        "  mlpMine = MLPMine(2, [5], 1)\n",
        "  #print(Learner.forwardPropagate([0.5, 0.2]))\n",
        "  input = np.array([0.1, 0.1])\n",
        "  target = np.array([0.3])\n",
        "  \n",
        "  items = np.array([[random()/2 for _ in range(2)] for _ in range(1000)])\n",
        "  targets = np.array([[i[1] + i[0]] for i in items])\n",
        "\n",
        "  mlpMine.train(items, targets)\n",
        "\n",
        "  output = mlpMine.forwardPropagate(input)\n",
        "\n",
        "  print(\"output of\", output)\n",
        "\n",
        "  #print(\"sigmoid output\", Learner._sigmoidFunction([0.5]))"
      ],
      "execution_count": null,
      "outputs": [
        {
          "output_type": "stream",
          "text": [
            "output of [0.18829308]\n"
          ],
          "name": "stdout"
        }
      ]
    },
    {
      "cell_type": "code",
      "metadata": {
        "colab": {
          "base_uri": "https://localhost:8080/"
        },
        "id": "5ILYyDm6u_mf",
        "outputId": "f56cce24-f012-4852-d693-f9caec0a31df"
      },
      "source": [
        "if __name__ == \"__main__\":\n",
        "  # print(\"items\", items)\n",
        "  # print(\"targets\", targets)\n",
        "  print(\"average\", np.average(targets))\n",
        "  input = np.array([0.1, 0.01])\n",
        "  output = mlpMine.forwardPropagate(input)\n",
        "  print(\"output of\", output)"
      ],
      "execution_count": null,
      "outputs": [
        {
          "output_type": "stream",
          "text": [
            "average 0.5047271753359525\n",
            "output of [0.12354505]\n"
          ],
          "name": "stdout"
        }
      ]
    },
    {
      "cell_type": "markdown",
      "metadata": {
        "id": "aic26S34gW-4"
      },
      "source": [
        "##Next we're going to apply this simple MLP to a diabetes classifier\n",
        "\n",
        "First we need to import the data we want"
      ]
    },
    {
      "cell_type": "code",
      "metadata": {
        "colab": {
          "base_uri": "https://localhost:8080/"
        },
        "id": "rk6IZHJWgseT",
        "outputId": "90c46603-3f24-4644-8490-7fb8156e3cf4"
      },
      "source": [
        "fullDiabetesData = pd.read_csv('diabetes.csv')\n",
        "diabetseData = fullDiabetesData[['Glucose', 'Insulin', 'BMI', 'DiabetesPedigreeFunction', 'Outcome']]\n",
        "shuffledDiabetseData = diabetseData.sample(frac=1)\n",
        "X_train, X_test, y_train, y_test = train_test_split(shuffledDiabetseData[['Glucose', 'Insulin', 'BMI', 'DiabetesPedigreeFunction']], shuffledDiabetseData[['Outcome']], test_size=0.1, random_state=42)\n",
        "\n",
        "X_train, X_test, y_train, y_test = X_train.to_numpy(), X_test.to_numpy(), y_train.to_numpy(), y_test.to_numpy()\n",
        "\n",
        "print(\"y_train shape\" , y_train.shape)\n",
        "\n",
        "emptyArray = np.zeros((y_train.shape))\n",
        "\n",
        "for index, i in enumerate(y_train):\n",
        "  try:\n",
        "    emptyArray[index] = 1.0-i\n",
        "  except:\n",
        "    print(index)\n",
        "# print(\"X_train\", X_train)\n",
        "# print(\"X_test\", X_test)\n",
        "# print(\"y_train\", y_train)\n",
        "# print(\"y_test\", y_test)\n",
        "#y_train, emptyArray = y_train.T, emptyArray.T\n",
        "#print(y_train[1])\n",
        "#print(a.shape)\n",
        "#print(\"initial\", y_train)\n",
        "\n",
        "print(y_train[0])\n",
        "y_train = np.append(y_train, emptyArray, axis=1)\n",
        "#print(y_train.shape)\n",
        "#print(y_train[0])\n",
        "\n",
        "\n",
        "\n",
        "currentMax = np.amax(X_train, axis=0)\n",
        "print(\"initial\", X_train[0])\n",
        "print(\"maximum value\", currentMax)\n",
        "for i in range(len(X_train)):\n",
        "  X_train[i] = X_train[i] / currentMax\n",
        "print(\"after\", X_train[0])\n",
        "\n",
        "for i in range(len(X_test)):\n",
        "  X_test[i] = X_test[i] / currentMax\n",
        "\n",
        "#for index, i in enumerate(X_train):\n",
        "\n",
        "\n",
        "#print(emptyArray[0])\n",
        "print(\"final\", y_train)\n",
        "print(y_train.shape)\n",
        "print(X_train.shape)\n",
        "#print(\"mt\", emptyArray)\n"
      ],
      "execution_count": null,
      "outputs": [
        {
          "output_type": "stream",
          "text": [
            "y_train shape (691, 1)\n",
            "[1]\n",
            "initial [85.     0.    29.     1.224]\n",
            "maximum value [199.   846.    67.1    2.42]\n",
            "after [0.42713568 0.         0.43219076 0.50578512]\n",
            "final [[1. 0.]\n",
            " [1. 0.]\n",
            " [0. 1.]\n",
            " ...\n",
            " [0. 1.]\n",
            " [0. 1.]\n",
            " [0. 1.]]\n",
            "(691, 2)\n",
            "(691, 4)\n"
          ],
          "name": "stdout"
        }
      ]
    },
    {
      "cell_type": "markdown",
      "metadata": {
        "id": "4yaHC5T-nUOs"
      },
      "source": [
        "Next we need to initialize a new MLP that fits this new data"
      ]
    },
    {
      "cell_type": "code",
      "metadata": {
        "colab": {
          "base_uri": "https://localhost:8080/"
        },
        "id": "9rLphpFGnZQP",
        "outputId": "caf64951-59a8-46e2-e05b-8d9dc2c165bb"
      },
      "source": [
        "if __name__ == \"__main__\":\n",
        "  diabetesMLP = MLPMine(4, [3], 2)\n",
        "  #print(Learner.forwardPropagate([0.5, 0.2]))\n",
        "  input = np.array([0.2, 0.2, 0.2, 0.2])\n",
        "  target = np.array([[0.3], [0.4]])\n",
        "  \n",
        "  print(diabetesMLP.forwardPropagate(input))\n",
        "  diabetesMLP.train(X_train, y_train)\n",
        "  \n",
        "\n",
        "  #print(\"output of\", output, \"should be\", y_test[0])"
      ],
      "execution_count": null,
      "outputs": [
        {
          "output_type": "stream",
          "text": [
            "[0.67094594 0.76743504]\n"
          ],
          "name": "stdout"
        }
      ]
    },
    {
      "cell_type": "markdown",
      "metadata": {
        "id": "HL7fofx9bDTV"
      },
      "source": [
        "##Function to test different network shapes"
      ]
    },
    {
      "cell_type": "markdown",
      "metadata": {
        "id": "B5MYFLSFb4rF"
      },
      "source": [
        "Base code"
      ]
    },
    {
      "cell_type": "code",
      "metadata": {
        "colab": {
          "base_uri": "https://localhost:8080/"
        },
        "id": "3NCEVjFLqheI",
        "outputId": "f33856ad-dbb8-4636-f0d7-a793b2f0ffb3"
      },
      "source": [
        "correct = 0\n",
        "predicted = []\n",
        "for index, i in enumerate(X_test):\n",
        "    output = diabetesMLP.forwardPropagate(i)\n",
        "    output = np.argmax(output)\n",
        "    output = 1 - output\n",
        "    #predicted.append([output, y_test[index]])\n",
        "    predicted.append([output, y_test[index]])\n",
        "  \n",
        "    if output == y_test[index]:\n",
        "      #print(\"we were right\")\n",
        "      correct+=1\n",
        "    else:\n",
        "      print(\"this one was wrong\", X_test[index], \"guesses\", predicted[index])\n",
        "\n",
        "print(\"percentage correct\", correct/len(y_test))\n",
        "print(\"not diabetes count\", np.count_nonzero(y_test == 0), \"which is {}% of total\".format(np.count_nonzero(y_test == 0)/len(y_test)))\n",
        "print(\"diabetes count\", np.count_nonzero(y_test == 1), \"which is {}% of total\".format(np.count_nonzero(y_test == 1)/len(y_test)))\n",
        "#print(predicted)\n",
        "#print(\"diabetes count\", y_test.count(1))"
      ],
      "execution_count": null,
      "outputs": [
        {
          "output_type": "stream",
          "text": [
            "this one was wrong [0.64321608 0.         0.59612519 0.45495868] guesses [1, array([0])]\n",
            "this one was wrong [0.59798995 0.         0.43219076 0.10867769] guesses [0, array([1])]\n",
            "this one was wrong [0.79899497 0.         0.40834575 0.1214876 ] guesses [1, array([0])]\n",
            "this one was wrong [0.50251256 0.         0.44709389 0.2       ] guesses [0, array([1])]\n",
            "this one was wrong [0.72361809 0.33687943 0.47690015 0.18677686] guesses [0, array([1])]\n",
            "this one was wrong [0.44221106 0.11702128 0.81967213 0.20495868] guesses [0, array([1])]\n",
            "this one was wrong [0.82914573 0.30141844 0.71385991 0.10702479] guesses [1, array([0])]\n",
            "this one was wrong [0.87939698 0.         0.34128167 0.13471074] guesses [1, array([0])]\n",
            "this one was wrong [0.77386935 0.22813239 0.4366617  0.34669421] guesses [1, array([0])]\n",
            "this one was wrong [0.51256281 0.         0.58867362 0.12107438] guesses [0, array([1])]\n",
            "this one was wrong [0.90452261 0.08274232 0.50670641 0.11198347] guesses [1, array([0])]\n",
            "this one was wrong [0.61809045 0.28368794 0.85394933 0.36363636] guesses [1, array([0])]\n",
            "this one was wrong [0.71859296 0.17257683 0.54545455 0.10495868] guesses [0, array([1])]\n",
            "this one was wrong [0.74371859 0.         0.48435171 0.10578512] guesses [1, array([0])]\n",
            "this one was wrong [0.64321608 0.22931442 0.60357675 0.25330579] guesses [0, array([1])]\n",
            "this one was wrong [0.81407035 0.         0.41281669 0.07520661] guesses [1, array([0])]\n",
            "this one was wrong [0.64824121 0.13593381 0.39344262 0.09049587] guesses [0, array([1])]\n",
            "percentage correct 0.7792207792207793\n",
            "not diabetes count 56 which is 0.7272727272727273% of total\n",
            "diabetes count 21 which is 0.2727272727272727% of total\n"
          ],
          "name": "stdout"
        }
      ]
    },
    {
      "cell_type": "markdown",
      "metadata": {
        "id": "QQp_VYwdb528"
      },
      "source": [
        "The actual function"
      ]
    },
    {
      "cell_type": "code",
      "metadata": {
        "id": "2kKPqHzobW0z"
      },
      "source": [
        "def efficacy(multiLayer):\n",
        "\n",
        "  correct = 0\n",
        "  predicted = np.array([])\n",
        "  for index, i in enumerate(X_test):\n",
        "    output = multiLayer.forwardPropagate(i)\n",
        "    output = np.argmax(output)\n",
        "    output = 1 - output\n",
        "    #predicted.append([output, y_test[index]])\n",
        "    predicted = np.append(predicted, [output])\n",
        "\n",
        "\n",
        "\n",
        "    if output == y_test[index]:\n",
        "      #print(\"we were right\")\n",
        "      correct+=1\n",
        "    #else:\n",
        "      #print(\"this one was wrong\", X_test[index], \"guesses\", predicted[index])\n",
        "\n",
        "  print(\"percentage correct\", correct/len(y_test))\n",
        "  print(\"not diabetes count\", np.count_nonzero(y_test == 0), \"which is {}% of total. \".format(np.count_nonzero(y_test == 0)/len(y_test)), \"We predicted not diabetes {} times\". format(np.count_nonzero(predicted == 0)))\n",
        "  print(\"diabetes count\", np.count_nonzero(y_test == 1), \"which is {}% of total. \".format(np.count_nonzero(y_test == 1)/len(y_test)), \"We predicted diabetes {} times\". format(np.count_nonzero(predicted == 1)))\n",
        "  pca = skPCA(n_components=1)\n",
        "  transformed = pd.DataFrame(pca.fit_transform(X_test))\n",
        "  #print(transformed)\n",
        "  #dataframe=pd.DataFrame(predicted, columns=['2']) \n",
        "  transformed['Predictions'] = predicted\n",
        "  transformed.plot()\n",
        "  # print(predicted)\n",
        "  # print(y_test)"
      ],
      "execution_count": null,
      "outputs": []
    },
    {
      "cell_type": "markdown",
      "metadata": {
        "id": "Hq2VJ5FKb7ps"
      },
      "source": [
        "Actually testing efficacies"
      ]
    },
    {
      "cell_type": "code",
      "metadata": {
        "colab": {
          "base_uri": "https://localhost:8080/",
          "height": 615
        },
        "id": "-ArU8K69bvAp",
        "outputId": "e5db80c8-2e05-49b3-d1e7-0da36fbb98e5"
      },
      "source": [
        "sampleMLP1 = MLPMine(4, [5, 5], 2)\n",
        "sampleMLP1.train(X_train, y_train)\n",
        "efficacy(sampleMLP1)\n",
        "\n",
        "sampleMLP2 = MLPMine(4, [4, 4], 2)\n",
        "sampleMLP2.train(X_train, y_train)\n",
        "efficacy(sampleMLP2)\n",
        "\n",
        "\n",
        "\n"
      ],
      "execution_count": null,
      "outputs": [
        {
          "output_type": "stream",
          "text": [
            "percentage correct 0.7272727272727273\n",
            "not diabetes count 56 which is 0.7272727272727273% of total.  We predicted not diabetes 45 times\n",
            "diabetes count 21 which is 0.2727272727272727% of total.  We predicted diabetes 32 times\n",
            "percentage correct 0.7402597402597403\n",
            "not diabetes count 56 which is 0.7272727272727273% of total.  We predicted not diabetes 46 times\n",
            "diabetes count 21 which is 0.2727272727272727% of total.  We predicted diabetes 31 times\n"
          ],
          "name": "stdout"
        },
        {
          "output_type": "display_data",
          "data": {
            "image/png": "[encoded data removed]",
            "text/plain": [
              "<Figure size 432x288 with 1 Axes>"
            ]
          },
          "metadata": {
            "tags": [],
            "needs_background": "light"
          }
        },
        {
          "output_type": "display_data",
          "data": {
            "image/png": "[encoded data removed]",
            "text/plain": [
              "<Figure size 432x288 with 1 Axes>"
            ]
          },
          "metadata": {
            "tags": [],
            "needs_background": "light"
          }
        }
      ]
    }
  ]
}