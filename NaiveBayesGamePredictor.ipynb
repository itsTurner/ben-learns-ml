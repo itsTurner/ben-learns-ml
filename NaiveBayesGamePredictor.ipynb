{
  "nbformat": 4,
  "nbformat_minor": 0,
  "metadata": {
    "colab": {
      "name": "NaiveBayesGamePredictor.ipynb",
      "provenance": [],
      "collapsed_sections": [],
      "authorship_tag": "ABX9TyM6YEKq5pvQU5e03Q1MwGFV",
      "include_colab_link": true
    },
    "kernelspec": {
      "name": "python3",
      "display_name": "Python 3"
    }
  },
  "cells": [
    {
      "cell_type": "markdown",
      "metadata": {
        "id": "view-in-github",
        "colab_type": "text"
      },
      "source": [
        "<a href=\"https://colab.research.google.com/github/itsTurner/ben-learns-ml/blob/main/NaiveBayesGamePredictor.ipynb\" target=\"_parent\"><img src=\"https://colab.research.google.com/assets/colab-badge.svg\" alt=\"Open In Colab\"/></a>"
      ]
    },
    {
      "cell_type": "code",
      "metadata": {
        "id": "hjXGo9_PlftM"
      },
      "source": [
        "import numpy as np\n"
      ],
      "execution_count": null,
      "outputs": []
    },
    {
      "cell_type": "markdown",
      "metadata": {
        "id": "AHxUIz_Ab0gO"
      },
      "source": [
        "# Preparing data\n",
        "First we are going to \"import\" the data into a 2d array\n",
        "\n",
        "\n",
        "\n"
      ]
    },
    {
      "cell_type": "code",
      "metadata": {
        "id": "TggHo3BbebP_",
        "colab": {
          "base_uri": "https://localhost:8080/"
        },
        "outputId": "f72f6676-a9ab-42ab-b1fb-af46ce8beefb"
      },
      "source": [
        "gameData = [[\"sunny\", \"hot\", \"high\", False, \"no\"], [\"sunny\", \"hot\", \"high\", True, \"no\"], [\"overcast\", \"hot\", \"high\", False, \"yes\"], [\"rainy\", \"mild\", \"high\", False, \"yes\"], [\"rainy\", \"cool\", \"normal\", False, \"yes\"], [\"rainy\", \"cool\", \"normal\", True, \"no\"], [\"overcast\", \"cool\", \"normal\", True, \"yes\"], [\"sunny\", \"mild\", \"high\", False, \"no\"], [\"sunny\", \"cool\", \"normal\", False, \"yes\"], [\"rainy\", \"mild\", \"normal\", False, \"yes\"], [\"sunny\", \"mild\", \"normal\", True, \"yes\"], [\"overcast\", \"mild\", \"high\", True, \"yes\"], [\"overcast\", \"hot\", \"normal\", False, \"yes\"], [\"rainy\", \"mild\", \"high\", True, \"no\"],]\n",
        "for i in gameData:\n",
        "  print(i)"
      ],
      "execution_count": null,
      "outputs": [
        {
          "output_type": "stream",
          "text": [
            "['sunny', 'hot', 'high', False, 'no']\n",
            "['sunny', 'hot', 'high', True, 'no']\n",
            "['overcast', 'hot', 'high', False, 'yes']\n",
            "['rainy', 'mild', 'high', False, 'yes']\n",
            "['rainy', 'cool', 'normal', False, 'yes']\n",
            "['rainy', 'cool', 'normal', True, 'no']\n",
            "['overcast', 'cool', 'normal', True, 'yes']\n",
            "['sunny', 'mild', 'high', False, 'no']\n",
            "['sunny', 'cool', 'normal', False, 'yes']\n",
            "['rainy', 'mild', 'normal', False, 'yes']\n",
            "['sunny', 'mild', 'normal', True, 'yes']\n",
            "['overcast', 'mild', 'high', True, 'yes']\n",
            "['overcast', 'hot', 'normal', False, 'yes']\n",
            "['rainy', 'mild', 'high', True, 'no']\n"
          ],
          "name": "stdout"
        }
      ]
    },
    {
      "cell_type": "markdown",
      "metadata": {
        "id": "L73dFZzRgkEL"
      },
      "source": [
        "Next we are going to sort the data for yes games and no games"
      ]
    },
    {
      "cell_type": "code",
      "metadata": {
        "id": "qxwytn3bgtii",
        "colab": {
          "base_uri": "https://localhost:8080/"
        },
        "outputId": "7d61f852-f9d0-4cae-f346-d43f7cd41f2b"
      },
      "source": [
        "yesData = []\n",
        "noData = []\n",
        "for i in gameData:\n",
        "  if i[4] == \"yes\":\n",
        "    yesData.append(i)\n",
        "  elif i[4] == \"no\":\n",
        "    noData.append(i)\n",
        "  else:\n",
        "    print(i)\n",
        "\n",
        "print(\"Yes data\",yesData)\n",
        "print(\"No data\",noData)\n"
      ],
      "execution_count": null,
      "outputs": [
        {
          "output_type": "stream",
          "text": [
            "Yes data [['overcast', 'hot', 'high', False, 'yes'], ['rainy', 'mild', 'high', False, 'yes'], ['rainy', 'cool', 'normal', False, 'yes'], ['overcast', 'cool', 'normal', True, 'yes'], ['sunny', 'cool', 'normal', False, 'yes'], ['rainy', 'mild', 'normal', False, 'yes'], ['sunny', 'mild', 'normal', True, 'yes'], ['overcast', 'mild', 'high', True, 'yes'], ['overcast', 'hot', 'normal', False, 'yes']]\n",
            "No data [['sunny', 'hot', 'high', False, 'no'], ['sunny', 'hot', 'high', True, 'no'], ['rainy', 'cool', 'normal', True, 'no'], ['sunny', 'mild', 'high', False, 'no'], ['rainy', 'mild', 'high', True, 'no']]\n"
          ],
          "name": "stdout"
        }
      ]
    },
    {
      "cell_type": "markdown",
      "metadata": {
        "id": "um1dqOyvhhf5"
      },
      "source": [
        "# Analyzing probability for some occurence\n",
        "\n",
        "Function that will take data, some value, and output the probability"
      ]
    },
    {
      "cell_type": "code",
      "metadata": {
        "id": "ZrbSsVPah30P"
      },
      "source": [
        "def occurenceProbability(data, info, location):\n",
        "  occurences = 1\n",
        "  for i in data:\n",
        "    if i[location] == info:\n",
        "      occurences+=1\n",
        "  return occurences/(len(data) + 1)\n",
        "  #print(occurences/len(data))\n",
        "\n",
        "#occurenceProbability(yesData, \"hot\", 1)\n"
      ],
      "execution_count": null,
      "outputs": []
    },
    {
      "cell_type": "markdown",
      "metadata": {
        "id": "3QJZYXN8ineD"
      },
      "source": [
        "Output probabilities for some new input"
      ]
    },
    {
      "cell_type": "code",
      "metadata": {
        "id": "E7Y12jn-jGzZ",
        "colab": {
          "base_uri": "https://localhost:8080/"
        },
        "outputId": "37acba75-b2dd-4c73-ccb7-bfe696d0a79d"
      },
      "source": [
        "predictionData = [\"sunny\", \"cool\", \"high\", True]\n",
        "yesProbabilities = []\n",
        "noProbabilities = []\n",
        "for i in range(len(predictionData)):\n",
        "  \n",
        "\n",
        "  yesProbabilities.append(occurenceProbability(yesData, predictionData[i], i))\n",
        "yesProbabilities.append(len(yesData)/len(gameData))\n",
        "print(yesProbabilities)\n",
        "for i in range(len(predictionData)):\n",
        "  \n",
        "  noProbabilities.append(occurenceProbability(noData, predictionData[i], i))\n",
        "noProbabilities.append(len(noData)/len(gameData))\n",
        "\n",
        "print(noProbabilities)"
      ],
      "execution_count": null,
      "outputs": [
        {
          "output_type": "stream",
          "text": [
            "[0.2222222222222222, 0.3333333333333333, 0.3333333333333333, 0.3333333333333333, 0.6428571428571429]\n",
            "[0.6, 0.2, 0.8, 0.6, 0.35714285714285715]\n"
          ],
          "name": "stdout"
        }
      ]
    },
    {
      "cell_type": "markdown",
      "metadata": {
        "id": "7lj62-Enk5Lq"
      },
      "source": [
        "# Gives Final output\n",
        "Multiplies all the probabilities for yes and no together and returns if the new data creates a good or bad day to play"
      ]
    },
    {
      "cell_type": "code",
      "metadata": {
        "id": "xiPDTgUDlHYc",
        "colab": {
          "base_uri": "https://localhost:8080/"
        },
        "outputId": "159c3cac-652e-4f98-9b50-71faa40d37e5"
      },
      "source": [
        "if np.prod(yesProbabilities) > np.prod(noProbabilities):\n",
        "  print(\"A good day to play\")\n",
        "else:\n",
        "  print(\"A bad day to play\")"
      ],
      "execution_count": null,
      "outputs": [
        {
          "output_type": "stream",
          "text": [
            "A bad day to play\n"
          ],
          "name": "stdout"
        }
      ]
    },
    {
      "cell_type": "markdown",
      "metadata": {
        "id": "Zpzv3sFToKa2"
      },
      "source": [
        "# Full Code\n"
      ]
    },
    {
      "cell_type": "code",
      "metadata": {
        "id": "M4OexWk7oP4c",
        "colab": {
          "base_uri": "https://localhost:8080/"
        },
        "outputId": "cf6e3b97-aef7-4b91-b300-89a93fee6414"
      },
      "source": [
        "import numpy as np\n",
        "gameData = [[\"sunny\", \"hot\", \"high\", False, \"no\"], [\"sunny\", \"hot\", \"high\", True, \"no\"], [\"overcast\", \"hot\", \"high\", False, \"yes\"], [\"rainy\", \"mild\", \"high\", False, \"yes\"], [\"rainy\", \"cool\", \"normal\", False, \"yes\"], [\"rainy\", \"cool\", \"normal\", True, \"no\"], [\"overcast\", \"cool\", \"normal\", True, \"yes\"], [\"sunny\", \"mild\", \"high\", False, \"no\"], [\"sunny\", \"cool\", \"normal\", False, \"yes\"], [\"rainy\", \"mild\", \"normal\", False, \"yes\"], [\"sunny\", \"mild\", \"normal\", True, \"yes\"], [\"overcast\", \"mild\", \"high\", True, \"yes\"], [\"overcast\", \"hot\", \"normal\", False, \"yes\"], [\"rainy\", \"mild\", \"high\", True, \"no\"],]\n",
        "yesData = []\n",
        "noData = []\n",
        "predictionData = [\"overcast\", \"cool\", \"high\", True]\n",
        "yesProbabilities = []\n",
        "noProbabilities = []\n",
        "\n",
        "for i in gameData:\n",
        "  if i[4] == \"yes\":\n",
        "    yesData.append(i)\n",
        "  elif i[4] == \"no\":\n",
        "    noData.append(i)\n",
        "  else:\n",
        "    print(i)\n",
        "\n",
        "def occurenceProbability(data, info, location):\n",
        "  occurences = 1\n",
        "  for i in data:\n",
        "    if i[location] == info:\n",
        "      occurences+=1\n",
        "  return occurences/(len(data)+1)\n",
        "\n",
        "\n",
        "for i in range(len(predictionData)):\n",
        "  yesProbabilities.append(occurenceProbability(yesData, predictionData[i], i))\n",
        "\n",
        "yesProbabilities.append(len(yesData)/len(gameData))\n",
        "\n",
        "for i in range(len(predictionData)):\n",
        "  noProbabilities.append(occurenceProbability(noData, predictionData[i], i))\n",
        "\n",
        "noProbabilities.append(len(noData)/len(gameData))\n",
        "\n",
        "if np.prod(yesProbabilities) > np.prod(noProbabilities):\n",
        "  print(\"A good day to play\")\n",
        "else:\n",
        "  print(\"A bad day to play\")"
      ],
      "execution_count": null,
      "outputs": [
        {
          "output_type": "stream",
          "text": [
            "A good day to play\n"
          ],
          "name": "stdout"
        }
      ]
    }
  ]
}