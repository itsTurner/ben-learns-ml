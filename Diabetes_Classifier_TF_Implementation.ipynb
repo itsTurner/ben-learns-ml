{
  "nbformat": 4,
  "nbformat_minor": 0,
  "metadata": {
    "colab": {
      "name": "Diabetes_Classifier_TF_Implementation.ipynb",
      "provenance": [],
      "toc_visible": true,
      "authorship_tag": "ABX9TyN7BaMSsogTLIYuR0lZYlle",
      "include_colab_link": true
    },
    "kernelspec": {
      "name": "python3",
      "display_name": "Python 3"
    }
  },
  "cells": [
    {
      "cell_type": "markdown",
      "metadata": {
        "id": "view-in-github",
        "colab_type": "text"
      },
      "source": [
        "<a href=\"https://colab.research.google.com/github/itsTurner/ben-learns-ml/blob/main/Diabetes_Classifier_TF_Implementation.ipynb\" target=\"_parent\"><img src=\"https://colab.research.google.com/assets/colab-badge.svg\" alt=\"Open In Colab\"/></a>"
      ]
    },
    {
      "cell_type": "markdown",
      "metadata": {
        "id": "8C3jKqeWoMG7"
      },
      "source": [
        "Import statements"
      ]
    },
    {
      "cell_type": "code",
      "metadata": {
        "id": "st90Q_y5m0Cw"
      },
      "source": [
        "import numpy as np\n",
        "import pandas as pd\n",
        "from random import random\n",
        "from sklearn.model_selection import train_test_split\n",
        "import math\n",
        "\n",
        "import tensorflow as tf\n",
        "from tensorflow.keras.layers import Dense, Flatten, Conv2D\n",
        "from tensorflow.keras import Model\n",
        "from tensorflow.keras import Sequential\n",
        "from tensorflow.keras.layers import Dense\n",
        "\n",
        "import matplotlib.pyplot as plt\n",
        "from sklearn.decomposition import PCA as skPCA"
      ],
      "execution_count": null,
      "outputs": []
    },
    {
      "cell_type": "markdown",
      "metadata": {
        "id": "z2yh5c73o758"
      },
      "source": [
        "Import Cancer data \n"
      ]
    },
    {
      "cell_type": "code",
      "metadata": {
        "colab": {
          "base_uri": "https://localhost:8080/"
        },
        "id": "h0RhlXJApIyG",
        "outputId": "16699ff2-759b-4c8b-f76a-046bafb4affd"
      },
      "source": [
        "fullDiabetesData = pd.read_csv('diabetes.csv')\n",
        "diabetseData = fullDiabetesData[['Glucose', 'Insulin', 'BMI', 'DiabetesPedigreeFunction', 'Outcome']]\n",
        "shuffledDiabetseData = diabetseData.sample(frac=1)\n",
        "x_train, x_test, y_train, y_test = train_test_split(shuffledDiabetseData[['Glucose', 'Insulin', 'BMI', 'DiabetesPedigreeFunction']], shuffledDiabetseData[['Outcome']], test_size=0.1, random_state=42)\n",
        "\n",
        "x_train, x_test, y_train, y_test = x_train.to_numpy(), x_test.to_numpy(), y_train.to_numpy(), y_test.to_numpy()\n",
        "\n",
        "emptyArray = np.zeros((y_train.shape))\n",
        "\n",
        "for index, i in enumerate(y_train):\n",
        "  try:\n",
        "    emptyArray[index] = 1.0-i\n",
        "  except:\n",
        "    print(\"stuff messed up at\", index)\n",
        "\n",
        "y_train = np.append(y_train, emptyArray, axis=1)\n",
        "currentMax = np.amax(x_train, axis=0)\n",
        "print(\"initial at 0 index \", x_train[0])\n",
        "print(\"maximum value\", currentMax)\n",
        "for i in range(len(x_train)):\n",
        "  x_train[i] = x_train[i] / currentMax\n",
        "print(\"after at 0 index\", x_train[0])\n",
        "\n",
        "for i in range(len(x_test)):\n",
        "  x_test[i] = x_test[i] / currentMax\n",
        "\n",
        "print(\"Shape of input\", x_train.shape)\n",
        "print(\"Shape of output\", y_train.shape)\n"
      ],
      "execution_count": null,
      "outputs": [
        {
          "output_type": "stream",
          "text": [
            "initial at 0 index  [137.      0.     32.      0.391]\n",
            "maximum value [199.   846.    67.1    2.42]\n",
            "after at 0 index [0.68844221 0.         0.47690015 0.16157025]\n",
            "Shape of input (691, 4)\n",
            "Shape of output (691, 2)\n"
          ],
          "name": "stdout"
        }
      ]
    },
    {
      "cell_type": "markdown",
      "metadata": {
        "id": "c0r1FGiv4QjL"
      },
      "source": [
        "##Adapted from https://machinelearningmastery.com/tensorflow-tutorial-deep-learning-with-tf-keras/"
      ]
    },
    {
      "cell_type": "code",
      "metadata": {
        "colab": {
          "base_uri": "https://localhost:8080/"
        },
        "id": "FqQS7lZI4U6k",
        "outputId": "a9dbab5c-5fe1-4b19-a11a-c9b28021ab52"
      },
      "source": [
        "#Define a model\n",
        "model = Sequential()\n",
        "model.add(Dense(5, input_shape=(4,)))\n",
        "model.add(Dense(5))\n",
        "model.add(Dense(2))\n",
        "\n",
        "#Compile the Model\n",
        "model.compile(optimizer='sgd', loss='mse', metrics=['accuracy'])\n",
        "\n",
        "#Fit the model\n",
        "model.fit(x_train, y_train, epochs=100, batch_size=32, verbose=0)\n",
        "\n",
        "#Evaluate model\n",
        "loss = model.evaluate(x_train, y_train, verbose=0)\n",
        "\n",
        "#Make Predictions\n",
        "predicted = model.predict(x_test)\n"
      ],
      "execution_count": null,
      "outputs": [
        {
          "output_type": "stream",
          "text": [
            "WARNING:tensorflow:5 out of the last 13 calls to <function Model.make_predict_function.<locals>.predict_function at 0x7fc4bf649620> triggered tf.function retracing. Tracing is expensive and the excessive number of tracings could be due to (1) creating @tf.function repeatedly in a loop, (2) passing tensors with different shapes, (3) passing Python objects instead of tensors. For (1), please define your @tf.function outside of the loop. For (2), @tf.function has experimental_relax_shapes=True option that relaxes argument shapes that can avoid unnecessary retracing. For (3), please refer to https://www.tensorflow.org/guide/function#controlling_retracing and https://www.tensorflow.org/api_docs/python/tf/function for  more details.\n"
          ],
          "name": "stdout"
        }
      ]
    },
    {
      "cell_type": "markdown",
      "metadata": {
        "id": "ssVrrUZA613t"
      },
      "source": [
        "Test accuracy of model"
      ]
    },
    {
      "cell_type": "code",
      "metadata": {
        "colab": {
          "base_uri": "https://localhost:8080/"
        },
        "id": "glcyeZUS63hW",
        "outputId": "9c59d55e-20ea-485c-ff59-78da85f91035"
      },
      "source": [
        "numpy_predicted = np.zeros(len(predicted))\n",
        "\n",
        "#print(numpy_predicted)\n",
        "correct = 0\n",
        "for index, i in enumerate(predicted):\n",
        "  maxLoc = np.argmax(i)\n",
        "  output = 1-maxLoc\n",
        "  numpy_predicted[index] = output\n",
        "  if output == y_test[index]:\n",
        "    #print(\"we were right\")\n",
        "    correct+=1\n",
        "  else:\n",
        "     print(\"this one was wrong\", y_test[index], \"guesses\", predicted[index])\n",
        "\n",
        "print(\"percentage correct\", correct/len(y_test))\n",
        "print(\"not diabetes count\", np.count_nonzero(y_test == 0), \"which is {}% of total. \".format(np.count_nonzero(y_test == 0)/len(y_test)), \"We predicted not diabetes {} times\". format(np.count_nonzero(numpy_predicted == 0)))\n",
        "print(\"diabetes count\", np.count_nonzero(y_test == 1), \"which is {}% of total. \".format(np.count_nonzero(y_test == 1)/len(y_test)), \"We predicted diabetes {} times\". format(np.count_nonzero(numpy_predicted == 1)))"
      ],
      "execution_count": null,
      "outputs": [
        {
          "output_type": "stream",
          "text": [
            "this one was wrong [1] guesses [0.384261  0.6289544]\n",
            "this one was wrong [1] guesses [0.55228335 0.5817604 ]\n",
            "this one was wrong [1] guesses [0.43465686 0.5785695 ]\n",
            "this one was wrong [1] guesses [0.43785787 0.61786735]\n",
            "this one was wrong [1] guesses [0.46025997 0.621658  ]\n",
            "this one was wrong [1] guesses [0.18752143 0.83399606]\n",
            "this one was wrong [1] guesses [0.3137814  0.72662646]\n",
            "this one was wrong [1] guesses [0.4035871 0.6534146]\n",
            "this one was wrong [0] guesses [0.7749567  0.31271848]\n",
            "this one was wrong [1] guesses [0.3367877 0.6109715]\n",
            "this one was wrong [1] guesses [0.25194335 0.7884239 ]\n",
            "this one was wrong [1] guesses [0.22211412 0.759005  ]\n",
            "this one was wrong [1] guesses [0.38564909 0.6116715 ]\n",
            "this one was wrong [1] guesses [0.49209785 0.51146924]\n",
            "this one was wrong [1] guesses [0.3163098 0.6875628]\n",
            "this one was wrong [1] guesses [0.25936088 0.7155359 ]\n",
            "this one was wrong [1] guesses [0.34420595 0.645037  ]\n",
            "this one was wrong [1] guesses [0.28740704 0.8576083 ]\n",
            "this one was wrong [1] guesses [0.44496995 0.57839435]\n",
            "this one was wrong [0] guesses [0.66899776 0.304699  ]\n",
            "this one was wrong [1] guesses [0.22542715 0.68978375]\n",
            "percentage correct 0.7272727272727273\n",
            "not diabetes count 44 which is 0.5714285714285714% of total.  We predicted not diabetes 61 times\n",
            "diabetes count 33 which is 0.42857142857142855% of total.  We predicted diabetes 16 times\n"
          ],
          "name": "stdout"
        }
      ]
    }
  ]
}