{
  "nbformat": 4,
  "nbformat_minor": 0,
  "metadata": {
    "colab": {
      "name": "2-NNAutoComplete.ipynb",
      "provenance": [],
      "toc_visible": true,
      "authorship_tag": "ABX9TyOgFexpSC6C+xeTFOOSbo4S",
      "include_colab_link": true
    },
    "kernelspec": {
      "name": "python3",
      "display_name": "Python 3"
    }
  },
  "cells": [
    {
      "cell_type": "markdown",
      "metadata": {
        "id": "view-in-github",
        "colab_type": "text"
      },
      "source": [
        "<a href=\"https://colab.research.google.com/github/itsTurner/ben-learns-ml/blob/main/2_NNAutoComplete.ipynb\" target=\"_parent\"><img src=\"https://colab.research.google.com/assets/colab-badge.svg\" alt=\"Open In Colab\"/></a>"
      ]
    },
    {
      "cell_type": "markdown",
      "metadata": {
        "id": "Mn1Hy09i1zfr"
      },
      "source": [
        "# First setup and import data set"
      ]
    },
    {
      "cell_type": "markdown",
      "metadata": {
        "id": "kIOAFiA33DII"
      },
      "source": [
        "Necessary import libraries"
      ]
    },
    {
      "cell_type": "code",
      "metadata": {
        "id": "4jNiF_GU1v3h"
      },
      "source": [
        "import numpy as np\n",
        "import pandas as pd\n",
        "from sklearn.model_selection import train_test_split\n",
        "import math"
      ],
      "execution_count": 84,
      "outputs": []
    },
    {
      "cell_type": "markdown",
      "metadata": {
        "id": "c1C_Hodp3CnF"
      },
      "source": [
        "Import data from csv"
      ]
    },
    {
      "cell_type": "code",
      "metadata": {
        "colab": {
          "base_uri": "https://localhost:8080/"
        },
        "id": "DR7YkRTW3COt",
        "outputId": "42a7de25-cc95-4891-f783-63cee3ee0a81"
      },
      "source": [
        "fullWordsList = pd.read_csv('/unigram_freq.csv')\n",
        "wordsList = fullWordsList[['word', 'count']]\n",
        "wordsArray = np.array(wordsList['word'])\n",
        "countArray = np.array(wordsList['count'])\n",
        "print(wordsArray)\n",
        "print(countArray)\n"
      ],
      "execution_count": 85,
      "outputs": [
        {
          "output_type": "stream",
          "text": [
            "['the' 'of' 'and' ... 'gooblle' 'gollgo' 'golgw']\n",
            "[23135851162 13151942776 12997637966 ...       12711       12711\n",
            "       12711]\n"
          ],
          "name": "stdout"
        }
      ]
    },
    {
      "cell_type": "markdown",
      "metadata": {
        "id": "VcdEo3NP4PTi"
      },
      "source": [
        "#Word Input and Correction"
      ]
    },
    {
      "cell_type": "markdown",
      "metadata": {
        "id": "HRIHnTxa4V5B"
      },
      "source": [
        "Hamming Input Function and Minimum Finder"
      ]
    },
    {
      "cell_type": "code",
      "metadata": {
        "colab": {
          "base_uri": "https://localhost:8080/"
        },
        "id": "v6Q4GGAA4XWM",
        "outputId": "41620a3b-ceb5-4d18-eaed-c5d08219a011"
      },
      "source": [
        "def hamming(word, arrayWords):\n",
        "  hammingArray = []\n",
        "  for i in range(len(arrayWords)):\n",
        "    hammingArray.append(0)\n",
        "    #print(arrayWords[i])\n",
        "  \n",
        "    if len(word) < len(arrayWords[i]):\n",
        "      for k in range(len(word)):\n",
        "        if word[k] != arrayWords[i][k]:\n",
        "          hammingArray[i]+=1\n",
        "      hammingArray[i]+=(len(arrayWords[i])-len(word))\n",
        "    else:\n",
        "      for k in range(len(arrayWords[i])):\n",
        "        if word[k] != arrayWords[i][k]:\n",
        "          hammingArray[i]+=1\n",
        "      hammingArray[i]+=(len(word)-len(arrayWords[i]))\n",
        "  \n",
        "  return np.array(hammingArray)\n",
        "\n",
        "def findMin(hammingArray):\n",
        "  minim = np.where(hammingArray == min(hammingArray))\n",
        "  secondMinim = np.where(hammingArray == (min(hammingArray) + 1))\n",
        "  bothMins = np.append(minim, secondMinim)\n",
        "  bestGuess = wordsArray[min(bothMins)]\n",
        "  return bestGuess\n",
        "hammingList = hamming(\"awedome\", wordsArray)\n",
        "print(\"The best guess is\", findMin(hammingList))\n",
        "# print(hammingList)\n",
        "# locationMin = np.where(hammingList == min(hammingList))\n",
        "# locationSecondMin = np.where(hammingList == (min(hammingList) + 1))\n",
        "# print(\"The minimum is\", min(hammingList))\n",
        "# print(\"This min occurs at\", locationMin)\n",
        "# print(\"The words that have this min\",wordsArray[locationMin])\n",
        "# print(\"The second minimum is\", (min(hammingList) + 1))\n",
        "# print(\"This second min occurs at\", locationSecondMin)\n",
        "# print(\"The words that have this second min\",wordsArray[locationSecondMin])\n",
        "# minimumsList = np.append(locationMin, locationSecondMin)\n",
        "# print(\"The best guess is\",wordsArray[min(minimumsList)])\n",
        "\n"
      ],
      "execution_count": 87,
      "outputs": [
        {
          "output_type": "stream",
          "text": [
            "The best guess is awesome\n"
          ],
          "name": "stdout"
        }
      ]
    },
    {
      "cell_type": "markdown",
      "metadata": {
        "id": "RFqSWgQhDfqe"
      },
      "source": [
        "Get input and run functions on that input"
      ]
    },
    {
      "cell_type": "code",
      "metadata": {
        "colab": {
          "base_uri": "https://localhost:8080/"
        },
        "id": "bbKK1j4H7f2x",
        "outputId": "693cb2ed-f160-4f4a-895e-9e4d76adb7b1"
      },
      "source": [
        "userWordToCorrect = input()\n",
        "\n",
        "hammingNumbers = hamming(userWordToCorrect, wordsArray)\n",
        "print(\"The best guess is\", findMin(hammingNumbers))"
      ],
      "execution_count": 95,
      "outputs": [
        {
          "output_type": "stream",
          "text": [
            "udfoaoenoa\n",
            "The best guess is uploaded\n"
          ],
          "name": "stdout"
        }
      ]
    },
    {
      "cell_type": "markdown",
      "metadata": {
        "id": "GUvKraUjEqzD"
      },
      "source": [
        "#Full code "
      ]
    },
    {
      "cell_type": "code",
      "metadata": {
        "colab": {
          "base_uri": "https://localhost:8080/"
        },
        "id": "TlrXdDxXEtxJ",
        "outputId": "8996d9d3-3a3b-454f-9ee3-9b18f6211282"
      },
      "source": [
        "import numpy as np\n",
        "import pandas as pd\n",
        "from sklearn.model_selection import train_test_split\n",
        "import math\n",
        "fullWordsList = pd.read_csv('/unigram_freq.csv')\n",
        "wordsList = fullWordsList[['word', 'count']]\n",
        "wordsArray = np.array(wordsList['word'])\n",
        "countArray = np.array(wordsList['count'])\n",
        "\n",
        "def hamming(word, arrayWords):\n",
        "  hammingArray = []\n",
        "  for i in range(len(arrayWords)):\n",
        "    hammingArray.append(0)\n",
        "    #print(arrayWords[i])\n",
        "  \n",
        "    if len(word) < len(arrayWords[i]):\n",
        "      for k in range(len(word)):\n",
        "        if word[k] != arrayWords[i][k]:\n",
        "          hammingArray[i]+=1\n",
        "      hammingArray[i]+=(len(arrayWords[i])-len(word))\n",
        "    else:\n",
        "      for k in range(len(arrayWords[i])):\n",
        "        if word[k] != arrayWords[i][k]:\n",
        "          hammingArray[i]+=1\n",
        "      hammingArray[i]+=(len(word)-len(arrayWords[i]))\n",
        "  return np.array(hammingArray)\n",
        "\n",
        "def findMin(hammingArray):\n",
        "  minim = np.where(hammingArray == min(hammingArray))\n",
        "  secondMinim = np.where(hammingArray == (min(hammingArray) + 1))\n",
        "  bothMins = np.append(minim, secondMinim)\n",
        "  bestGuess = wordsArray[min(bothMins)]\n",
        "  return bestGuess\n",
        "\n",
        "userWordToCorrect = input()\n",
        "\n",
        "hammingNumbers = hamming(userWordToCorrect, wordsArray)\n",
        "print(\"The best guess is\", findMin(hammingNumbers))"
      ],
      "execution_count": 105,
      "outputs": [
        {
          "output_type": "stream",
          "text": [
            "neoan\n",
            "The best guess is began\n"
          ],
          "name": "stdout"
        }
      ]
    }
  ]
}